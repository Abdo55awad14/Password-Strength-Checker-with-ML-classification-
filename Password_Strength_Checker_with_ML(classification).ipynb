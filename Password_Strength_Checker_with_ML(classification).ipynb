{
  "cells": [
    {
      "cell_type": "markdown",
      "metadata": {
        "id": "oHpZeEJL6sHE"
      },
      "source": [
        "#**Password Strength Checker with Machine Learning**\n"
      ]
    },
    {
      "cell_type": "markdown",
      "metadata": {
        "id": "qJHoixb762cR"
      },
      "source": [
        "**Password Strength Checker is an application that checks how strong a password is. Some popular password strength meters use machine learning algorithms to predict the strength of your password**"
      ]
    },
    {
      "cell_type": "markdown",
      "metadata": {
        "id": "9-JjhgDZ8Eu1"
      },
      "source": [
        "# **importing the necessary Python libraries and the dataset**"
      ]
    },
    {
      "cell_type": "code",
      "execution_count": 1,
      "metadata": {
        "id": "_xIldE_42c6t"
      },
      "outputs": [],
      "source": [
        "import pandas as pd\n",
        "import numpy as np\n",
        "from sklearn.feature_extraction.text import CountVectorizer\n",
        "from sklearn.feature_extraction.text import TfidfVectorizer\n",
        "from sklearn.model_selection import train_test_split\n",
        "from sklearn.ensemble import RandomForestClassifier"
      ]
    },
    {
      "cell_type": "code",
      "execution_count": 2,
      "metadata": {
        "colab": {
          "base_uri": "https://localhost:8080/"
        },
        "id": "Ty-VNj5R-AcL",
        "outputId": "c41e3ba2-e1a1-4d85-a1b9-14f010026d5e"
      },
      "outputs": [
        {
          "output_type": "stream",
          "name": "stdout",
          "text": [
            "      password  strength\n",
            "0     kzde5577       1.0\n",
            "1     kino3434       1.0\n",
            "2    visi7k1yr       1.0\n",
            "3     megzy123       1.0\n",
            "4  lamborghin1       1.0\n"
          ]
        }
      ],
      "source": [
        "data = pd.read_csv(\"/content/data.csv\", on_bad_lines='skip')\n",
        "print(data.head())"
      ]
    },
    {
      "cell_type": "markdown",
      "metadata": {
        "id": "RaSGIA1XDJZ1"
      },
      "source": [
        "**The dataset has two columns; password and strength. In the strength column:**\n",
        "\n",
        "0 means: the password’s strength is weak;\n",
        "\n",
        "\n",
        "1 means: the password’s strength is medium;\n",
        "\n",
        "\n",
        "2 means: the password’s strength is strong;"
      ]
    },
    {
      "cell_type": "markdown",
      "metadata": {
        "id": "3LnjnyJXDkFP"
      },
      "source": [
        "**Before moving forward, I will convert 0, 1, and 2 values in the strength column to weak, medium, and strong:**"
      ]
    },
    {
      "cell_type": "code",
      "execution_count": 3,
      "metadata": {
        "colab": {
          "base_uri": "https://localhost:8080/"
        },
        "id": "I4SZA8O1_FhN",
        "outputId": "32601968-35b1-445d-d8f4-4b0049fa90d1"
      },
      "outputs": [
        {
          "output_type": "stream",
          "name": "stdout",
          "text": [
            "                password strength\n",
            "265202  74zHmSTgxNwSPTXQ   Strong\n",
            "145445        sirisak789   Medium\n",
            "57042          zxecgqkm6   Medium\n",
            "170200        progin1458   Medium\n",
            "245739         t14949986   Medium\n"
          ]
        },
        {
          "output_type": "stream",
          "name": "stderr",
          "text": [
            "<ipython-input-3-ca5cf905d47f>:2: SettingWithCopyWarning: \n",
            "A value is trying to be set on a copy of a slice from a DataFrame.\n",
            "Try using .loc[row_indexer,col_indexer] = value instead\n",
            "\n",
            "See the caveats in the documentation: https://pandas.pydata.org/pandas-docs/stable/user_guide/indexing.html#returning-a-view-versus-a-copy\n",
            "  data[\"strength\"] = data[\"strength\"].map({0: \"Weak\",\n"
          ]
        }
      ],
      "source": [
        "data = data.dropna()\n",
        "data[\"strength\"] = data[\"strength\"].map({0: \"Weak\",\n",
        "                                         1: \"Medium\",\n",
        "                                         2: \"Strong\"})\n",
        "print(data.sample(5))"
      ]
    },
    {
      "cell_type": "markdown",
      "metadata": {
        "id": "RUQ8bfLoEymy"
      },
      "source": [
        "#Password Strength Prediction Model\n"
      ]
    },
    {
      "cell_type": "markdown",
      "metadata": {
        "id": "lEy3FQBfFO4L"
      },
      "source": [
        "Now let’s move to train a machine learning model to predict the strength of the password. Before we start preparing the model, we need to tokenize the passwords as we need the model to learn from the combinations of digits, letters, and symbols to predict the password’s strength. So here’s how we can tokenize and split the data into training and test sets:"
      ]
    },
    {
      "cell_type": "code",
      "execution_count": 4,
      "metadata": {
        "colab": {
          "base_uri": "https://localhost:8080/"
        },
        "id": "VYj3B6TgD0ds",
        "outputId": "5c74d5a0-889f-49f9-a783-640ed04f93ba"
      },
      "outputs": [
        {
          "output_type": "stream",
          "name": "stderr",
          "text": [
            "/usr/local/lib/python3.10/dist-packages/sklearn/feature_extraction/text.py:521: UserWarning: The parameter 'token_pattern' will not be used since 'tokenizer' is not None'\n",
            "  warnings.warn(\n"
          ]
        }
      ],
      "source": [
        "def word(password):\n",
        "    character=[]\n",
        "    for i in password:\n",
        "        character.append(i)\n",
        "    return character\n",
        "\n",
        "x = np.array(data[\"password\"])\n",
        "y = np.array(data[\"strength\"])\n",
        "\n",
        "tdif = TfidfVectorizer(tokenizer=word)\n",
        "x = tdif.fit_transform(x)\n",
        "xtrain, xtest, ytrain, ytest = train_test_split(x, y,\n",
        "                                                test_size=0.05,\n",
        "                                                random_state=42)"
      ]
    },
    {
      "cell_type": "markdown",
      "metadata": {
        "id": "QgtVVLy1GLVZ"
      },
      "source": [
        "# train a classification model to predict the strength of the password:"
      ]
    },
    {
      "cell_type": "code",
      "execution_count": 5,
      "metadata": {
        "colab": {
          "base_uri": "https://localhost:8080/"
        },
        "id": "5a6oqvjrGWBh",
        "outputId": "31efbc3c-ef1f-42a1-8890-ccc2162f8528"
      },
      "outputs": [
        {
          "output_type": "stream",
          "name": "stdout",
          "text": [
            "0.9533363670210565\n"
          ]
        }
      ],
      "source": [
        "model = RandomForestClassifier()\n",
        "model.fit(xtrain, ytrain)\n",
        "print(model.score(xtest, ytest))"
      ]
    },
    {
      "cell_type": "markdown",
      "metadata": {
        "id": "hI95bTdZGaBA"
      },
      "source": [
        "#check the strength of a password using the trained model:"
      ]
    },
    {
      "cell_type": "code",
      "execution_count": 9,
      "metadata": {
        "id": "EX0dqMy-FkZz",
        "colab": {
          "base_uri": "https://localhost:8080/"
        },
        "outputId": "babde698-b003-45b6-8723-d0e82ea6a3fb"
      },
      "outputs": [
        {
          "output_type": "stream",
          "name": "stdout",
          "text": [
            "Enter Password: ··········\n",
            "['Strong']\n"
          ]
        }
      ],
      "source": [
        "import getpass\n",
        "user = getpass.getpass(\"Enter Password: \")\n",
        "data = tdif.transform([user]).toarray()\n",
        "output = model.predict(data)\n",
        "print(output)\n"
      ]
    },
    {
      "cell_type": "code",
      "execution_count": null,
      "metadata": {
        "id": "zGBdYuJjLy22"
      },
      "outputs": [],
      "source": []
    }
  ],
  "metadata": {
    "colab": {
      "provenance": []
    },
    "kernelspec": {
      "display_name": "Python 3",
      "name": "python3"
    },
    "language_info": {
      "name": "python"
    }
  },
  "nbformat": 4,
  "nbformat_minor": 0
}